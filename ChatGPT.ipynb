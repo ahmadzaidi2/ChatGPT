{
 "cells": [
  {
   "cell_type": "code",
   "execution_count": 1,
   "id": "60081e60",
   "metadata": {},
   "outputs": [],
   "source": [
    "#pip install pyChatGPT\n",
    "#Import package\n",
    "from pyChatGPT import ChatGPT\n",
    "import session_info"
   ]
  },
  {
   "cell_type": "code",
   "execution_count": 4,
   "id": "606fe94a",
   "metadata": {
    "scrolled": true
   },
   "outputs": [],
   "source": [
    "api = ChatGPT(session_info.Secure_Token)  # auth with session token"
   ]
  },
  {
   "cell_type": "code",
   "execution_count": 5,
   "id": "1e3863af",
   "metadata": {
    "collapsed": true
   },
   "outputs": [
    {
     "name": "stdout",
     "output_type": "stream",
     "text": [
      "In dark times, when the economy\n",
      "Is struggling and in pain,\n",
      "A recession grips the land\n",
      "And causes widespread strain.\n",
      "\n",
      "Jobs are lost, and businesses fail,\n",
      "As consumers cut back on their spending.\n",
      "Investments decline, and stocks take a dip,\n",
      "As the country descends into an economic dipping.\n",
      "\n",
      "People grow fearful, and uncertainty reigns\n",
      "As the future grows ever more unclear.\n",
      "But though the road ahead may be rocky and rough,\n",
      "Eventually, the recession will disappear.\n",
      "\n",
      "And though it may take time,\n",
      "The economy will once again flourish and thrive,\n",
      "As the people come together\n",
      "And weather the storm, to emerge stronger on the other side.\n"
     ]
    }
   ],
   "source": [
    "response = api.send_message(\"Describe recession in poetry\")\n",
    "print(response['message'])"
   ]
  },
  {
   "cell_type": "code",
   "execution_count": 6,
   "id": "1ee34496",
   "metadata": {
    "collapsed": true
   },
   "outputs": [
    {
     "name": "stdout",
     "output_type": "stream",
     "text": [
      "Sure, here is an example of how you could deploy a logistic regression model as a Flask app:\n",
      "\n",
      "```\n",
      "from flask import Flask, request\n",
      "from sklearn.externals import joblib\n",
      "\n",
      "# Initialize the Flask app\n",
      "app = Flask(__name__)\n",
      "\n",
      "# Load the logistic regression model from a file\n",
      "model = joblib.load('logistic_regression_model.pkl')\n",
      "\n",
      "@app.route('/predict', methods=['POST'])\n",
      "def predict():\n",
      "  # Get the input data from the request\n",
      "  data = request.get_json(force=True)\n",
      "  \n",
      "  # Make a prediction using the model\n",
      "  prediction = model.predict(data)\n",
      "  \n",
      "  # Return the prediction as a response\n",
      "  return str(prediction)\n",
      "\n",
      "if __name__ == '__main__':\n",
      "  app.run()\n",
      "```\n",
      "\n",
      "This code will create a Flask app that listens for POST requests on the `/predict` endpoint. When it receives a request, it will use the provided input data to make a prediction using the logistic regression model, and return the prediction as a response.\n",
      "\n",
      "Note that this is just an example, and you may need to modify the code to fit the specific requirements of your model and application.\n"
     ]
    }
   ],
   "source": [
    "response = api.send_message(\"Can you write a code to deploy logistic regression as flask app\")\n",
    "print(response['message'])"
   ]
  },
  {
   "cell_type": "code",
   "execution_count": 10,
   "id": "d682ed23",
   "metadata": {},
   "outputs": [],
   "source": [
    "api.refresh_auth()  # refresh the authorization token\n",
    "api.reset_conversation()  # reset the conversation"
   ]
  },
  {
   "cell_type": "code",
   "execution_count": null,
   "id": "ddc34404",
   "metadata": {},
   "outputs": [],
   "source": []
  }
 ],
 "metadata": {
  "kernelspec": {
   "display_name": "Python 3 (ipykernel)",
   "language": "python",
   "name": "python3"
  },
  "language_info": {
   "codemirror_mode": {
    "name": "ipython",
    "version": 3
   },
   "file_extension": ".py",
   "mimetype": "text/x-python",
   "name": "python",
   "nbconvert_exporter": "python",
   "pygments_lexer": "ipython3",
   "version": "3.9.13"
  }
 },
 "nbformat": 4,
 "nbformat_minor": 5
}
